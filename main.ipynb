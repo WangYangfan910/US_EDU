{
 "cells": [
  {
   "cell_type": "code",
   "execution_count": null,
   "id": "c642c88f",
   "metadata": {},
   "outputs": [],
   "source": [
    "# import packages\n",
    "import read_data as rd\n",
    "import pandas as pd"
   ]
  },
  {
   "cell_type": "code",
   "execution_count": null,
   "id": "e0d51898",
   "metadata": {},
   "outputs": [],
   "source": [
    "# set constants and data path\n",
    "data_path = \"../data\""
   ]
  },
  {
   "cell_type": "code",
   "execution_count": null,
   "id": "2d884206",
   "metadata": {},
   "outputs": [],
   "source": [
    "# read data\n",
    "df = rd.construct_user_data(data_path)\n",
    "df.to_parquet(path = \"../data_clean\")"
   ]
  }
 ],
 "metadata": {
  "kernelspec": {
   "display_name": ".venv",
   "language": "python",
   "name": "python3"
  },
  "language_info": {
   "codemirror_mode": {
    "name": "ipython",
    "version": 3
   },
   "file_extension": ".py",
   "mimetype": "text/x-python",
   "name": "python",
   "nbconvert_exporter": "python",
   "pygments_lexer": "ipython3",
   "version": "3.11.2"
  }
 },
 "nbformat": 4,
 "nbformat_minor": 5
}
