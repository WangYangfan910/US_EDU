{
 "cells": [
  {
   "cell_type": "code",
   "execution_count": 1,
   "id": "bdad539d",
   "metadata": {},
   "outputs": [],
   "source": [
    "# import packages\n",
    "import os\n",
    "import pandas as pd\n",
    "import numpy as np\n",
    "from datetime import datetime\n",
    "from datetime import date\n",
    "import pyarrow as pa\n",
    "import pyarrow.compute as pc\n",
    "import pyarrow.parquet as pq\n",
    "import itertools\n",
    "import sys\n",
    "import read_group as rg\n"
   ]
  },
  {
   "cell_type": "code",
   "execution_count": 2,
   "id": "2f7ba9c2",
   "metadata": {},
   "outputs": [],
   "source": [
    "# set environment folders\n",
    "data_path = \"/media/manbobo/UltraP/Research/USEDU/data\""
   ]
  },
  {
   "cell_type": "code",
   "execution_count": null,
   "id": "2d8915fa",
   "metadata": {},
   "outputs": [],
   "source": [
    "# test df\n",
    "# dt1 = {field_name: rg.make_default_list(field_default, 4, 20) for (field_name, field_default) in itertools.zip_longest(rg.edu_var, rg.edu_default)}\n",
    "dt1 = {\"A\": rg.make_default_list(\"amd\", 4, 100), \"B\": rg.make_default_list(\"nvidia\", 4, 100), \"C\": rg.make_default_list(date(2077,9,10), 4, 100)}\n",
    "df1 = pd.DataFrame(dt1)\n",
    "\n",
    "\n",
    "print(dt1)\n",
    "print(df1)"
   ]
  },
  {
   "cell_type": "code",
   "execution_count": 4,
   "id": "a8141d13",
   "metadata": {},
   "outputs": [
    {
     "name": "stdout",
     "output_type": "stream",
     "text": [
      "     user_id                university_raw               university_name  \\\n",
      "0  130452445  Purdue University Fort Wayne  Purdue University Fort Wayne   \n",
      "1  130452445        Dale Carnegie Training        dale carnegie training   \n",
      "2  617479683   University of North Florida   University of North Florida   \n",
      "3  617479683      Florida State University       Fachhochschule Dortmund   \n",
      "4  617479683      Florida State University       Fachhochschule Dortmund   \n",
      "\n",
      "   education_number   startdate     enddate    degree      field  \\\n",
      "0                 1  2006-01-01  2010-01-31  Bachelor  Marketing   \n",
      "1                 2  2013-01-01  2013-01-01     empty      empty   \n",
      "2                 3  1990-01-01  1992-01-31    Master  Education   \n",
      "3                 2  1983-01-01  1987-01-31  Bachelor  Education   \n",
      "4                 1  1983-01-01  1987-01-01  Bachelor   Business   \n",
      "\n",
      "                        degree_raw  \\\n",
      "0              Bachelor of Science   \n",
      "1  Leadership Development Training   \n",
      "2      Master of Education (M.Ed.)   \n",
      "3         Bachelor of Science - BS   \n",
      "4       Bachelor of Science (B.S.)   \n",
      "\n",
      "                                           field_raw  world_rank  us_rank  \\\n",
      "0                                          Marketing         NaN      NaN   \n",
      "1                                               None         NaN      NaN   \n",
      "2  Counselor Education/School Counseling and Guid...         NaN    464.0   \n",
      "3  Sport and Fitness Administration/Management & ...       263.0    187.0   \n",
      "4               Sport Management, Physical Education       263.0    187.0   \n",
      "\n",
      "  university_country university_location  \n",
      "0      United States      Fort Wayne, in  \n",
      "1               None                None  \n",
      "2      United States    Jacksonville, fl  \n",
      "3            Germany     Tallahassee, fl  \n",
      "4            Germany     Tallahassee, fl  \n"
     ]
    }
   ],
   "source": [
    "# test storing and saving df read from data\n",
    "\n",
    "edus = pq.ParquetFile(\"{data_path}/US_EDUC/US_EDUC_user_education.parquet\".format(data_path=data_path))\n",
    "# display edus metadata\n",
    "group0 = edus.read_row_group(0).to_pandas()\n",
    "\n",
    "print(group0.head())"
   ]
  },
  {
   "cell_type": "code",
   "execution_count": 5,
   "id": "2b3fbb0d",
   "metadata": {},
   "outputs": [
    {
     "name": "stdout",
     "output_type": "stream",
     "text": [
      "<class 'datetime.date'>\n"
     ]
    }
   ],
   "source": [
    "# print(group0.columns)\n",
    "print(type(group0.at[0, \"startdate\"]))\n",
    "# print(datetime.strptime(\"2010-09-10\", \"%Y-%m-%d\"))\n",
    "# print(datetime.strptime(group0.at[0, \"startdate\"], \"%Y-%m-%d\"))"
   ]
  },
  {
   "cell_type": "code",
   "execution_count": 23,
   "id": "95423c7f",
   "metadata": {},
   "outputs": [
    {
     "name": "stdout",
     "output_type": "stream",
     "text": [
      "                position_id                            company_raw  \\\n",
      "0  [7486565030000009884, 0]  [IM SAFE Child Advocacy Center, none]   \n",
      "1                    [0, 0]                           [none, none]   \n",
      "\n",
      "  company_linkedin_url                        company_cleaned  \\\n",
      "0         [None, none]  [im safe child advocacy center, none]   \n",
      "1         [none, none]                           [none, none]   \n",
      "\n",
      "                               location_raw                    region  \\\n",
      "0  [Fenwick, Michigan, United States, none]  [Northern America, none]   \n",
      "1                              [none, none]              [none, none]   \n",
      "\n",
      "                 country             state  \\\n",
      "0  [United States, none]  [Michigan, none]   \n",
      "1           [none, none]      [none, none]   \n",
      "\n",
      "                              metro_area                          startdate  \\\n",
      "0  [michigan nonmetropolitan area, none]  [2021-05-01 00:00:00, 2077-09-10]   \n",
      "1                           [none, none]           [2077-09-10, 2077-09-10]   \n",
      "\n",
      "   ...         cusip    naics_code naics_description  \\\n",
      "0  ...  [None, none]  [None, none]      [None, none]   \n",
      "1  ...  [none, none]  [none, none]      [none, none]   \n",
      "\n",
      "  ultimate_parent_factset_id ultimate_parent_factset_name total_compensation  \\\n",
      "0               [None, none]                 [None, none]   [44921.918, 0.0]   \n",
      "1               [none, none]                 [none, none]         [0.0, 0.0]   \n",
      "\n",
      "  additional_compensation         title_translated         updated    user_id  \n",
      "0              [0.0, 0.0]  [family advocate, none]  [False, False]  438935973  \n",
      "1              [0.0, 0.0]             [none, none]  [False, False]  339609382  \n",
      "\n",
      "[2 rows x 45 columns]\n"
     ]
    }
   ],
   "source": [
    "dt = {field_name: rg.make_default_list(field_default, 2, 2) for (field_name, field_default) in itertools.zip_longest(rg.pos_var, rg.pos_default)}\n",
    "dt[\"user_id\"] = [438935973, 339609382]\n",
    "df = pd.DataFrame(dt)\n",
    "\n",
    "col_names = df.columns.to_list()\n",
    "col_names.remove(\"user_id\")\n",
    "col_names.remove(\"updated\")\n",
    "\n",
    "for col in col_names:\n",
    "    if (col == \"startdate\") | (col == \"enddate\"):\n",
    "        df.at[0, col][0] = datetime.strptime(group0.at[0, col], \"%Y-%m-%d\")\n",
    "    else:\n",
    "        df.at[0, col][0] = group0.at[0, col]\n",
    "\n",
    "print(df)\n",
    "\n",
    "df.to_parquet(path = \"./test.parquet\", index = False)"
   ]
  },
  {
   "cell_type": "code",
   "execution_count": null,
   "id": "cabcfb14",
   "metadata": {},
   "outputs": [],
   "source": [
    "# read the number of group numbers in all the files\n",
    "file_list = os.listdir(\"{dir_path}/US_EDUC\".format(dir_path=data_path))\n",
    "\n",
    "row_group_list = []\n",
    "\n",
    "for file in file_list:\n",
    "    edus = pq.ParquetFile(\"{data_path}/US_EDUC/{file}\".format(data_path=data_path, file = file))\n",
    "    row_group_list.append(edus.num_row_groups)\n",
    "\n",
    "print(row_group_list)\n",
    "print(file_list)"
   ]
  },
  {
   "cell_type": "code",
   "execution_count": null,
   "id": "e5aded2b",
   "metadata": {},
   "outputs": [],
   "source": [
    "\n",
    "os.listdir(\"{data_path}/US_EDUC\".format(data_path=data_path))"
   ]
  },
  {
   "cell_type": "code",
   "execution_count": null,
   "id": "26630a12",
   "metadata": {},
   "outputs": [],
   "source": [
    "# read user id dataset as pd dataframe\n",
    "ids = pq.read_table(\"{data_path}/unique_user_id_US_EDUC.parquet\".format(data_path=data_path)).to_pandas()\n",
    "ids.sort_values(\"user_id\", inplace=True)\n",
    "# sort user id, later would useful in filtering\n",
    "# ids = ids.sort_values(\"user_id\")\n",
    "# min_id = ids.column(\"user_id\")[0].as_py()\n",
    "# max_id = ids.column(\"user_id\")[-1].as_py()\n",
    "# ids.column(\"user_id\").index(697508942)\n",
    "print(ids)"
   ]
  },
  {
   "cell_type": "code",
   "execution_count": null,
   "id": "396729cc",
   "metadata": {},
   "outputs": [],
   "source": [
    "print(ids[\"user_id\"])\n",
    "target_id = set(ids[\"user_id\"])\n",
    "print(len(target_id))"
   ]
  },
  {
   "cell_type": "code",
   "execution_count": null,
   "id": "336dafe0",
   "metadata": {},
   "outputs": [],
   "source": [
    "# check min and max id\n",
    "print(\"min id is,\", min_id)\n",
    "print(\"max id is,\", max_id)\n",
    "print(ids.column(\"user_id\")[100000])"
   ]
  },
  {
   "cell_type": "code",
   "execution_count": null,
   "id": "510fa6ab",
   "metadata": {},
   "outputs": [],
   "source": [
    "# read education\n",
    "edus = pq.ParquetFile(\"{data_path}/US_EDUC/US_EDUC_user_education.parquet\".format(data_path=data_path))\n",
    "# display edus metadata\n",
    "group0 = edus.read_row_group(0).to_pandas()\n",
    "# group0 = group0[(group0[\"user_id\"] >= min_id) & (group0[\"user_id\"] <= max_id)]\n",
    "remove_id = pd.unique(group0[group0[\"education_number\"] > 6][\"user_id\"])\n",
    "group_data = group0[~group0[\"user_id\"].isin(remove_id)]\n",
    "\n",
    "group_data = group_data.sort_values([\"user_id\", \"enddate\"])\n",
    "\n",
    "group_data.index = range(0, group_data.shape[0])\n",
    "\n",
    "print(group0.shape)"
   ]
  },
  {
   "cell_type": "code",
   "execution_count": null,
   "id": "1e94a2dc",
   "metadata": {},
   "outputs": [],
   "source": [
    "# try extracting common ids in group data and ids\n",
    "common_id = set(group0[\"user_id\"]).intersection(set(ids[\"user_id\"]))\n",
    "print(len(common_id))"
   ]
  },
  {
   "cell_type": "code",
   "execution_count": null,
   "id": "89582da4",
   "metadata": {},
   "outputs": [],
   "source": [
    "# tbid = group0[group0[\"user_id\"] == 1858152]\n",
    "# access_row = rg.find_index(group_data, \"user_id\", 1858152)\n",
    "print(group_data.iloc[827:830,:])\n",
    "\n",
    "# print(rg.find_index(group_data, \"university_raw\", \"The University of Manchester\"))\n",
    "# print(group_data.index)\n",
    "# print(group_data[\"user_id\"])"
   ]
  },
  {
   "cell_type": "code",
   "execution_count": null,
   "id": "2a5127d8",
   "metadata": {},
   "outputs": [],
   "source": [
    "print(group0.index)"
   ]
  },
  {
   "cell_type": "code",
   "execution_count": null,
   "id": "198115b4",
   "metadata": {},
   "outputs": [],
   "source": [
    "# get the number of people with insane education history\n",
    "\n",
    "off_df = group0[group0[\"education_number\"] > 6]\n",
    "len(pd.unique(off_df[\"user_id\"]))"
   ]
  },
  {
   "cell_type": "code",
   "execution_count": null,
   "id": "cdcbafa7",
   "metadata": {},
   "outputs": [],
   "source": [
    "# print(group0.head())\n",
    "# drop the outlier\n",
    "# group0 = group0[group0[\"user_id\"] != 697508942]\n",
    "# get the maximum education number\n",
    "# max(group0[\"education_number\"])\n",
    "# print(group0[group0[\"education_number\"] == 8])\n",
    "# print(group0.loc[359753])\n",
    "print(group0[group0[\"user_id\"] == 355326980])"
   ]
  },
  {
   "cell_type": "code",
   "execution_count": null,
   "id": "ad147e44",
   "metadata": {},
   "outputs": [],
   "source": [
    "# check time of constructing and updating one edu instance\n",
    "edu_test = rd.edu()\n",
    "edu_test.update_value(group0.loc[0])\n",
    "print(edu_test)"
   ]
  },
  {
   "cell_type": "code",
   "execution_count": null,
   "id": "07118a3a",
   "metadata": {},
   "outputs": [],
   "source": [
    "# test value access in pandas.df\n",
    "df = pd.DataFrame(np.arange(12).reshape(3, 4),\n",
    "\n",
    "                  columns=['A', 'B', 'C', 'D'])\n",
    "\n",
    "print(df)\n",
    "\n",
    "df[0:2]\n"
   ]
  },
  {
   "cell_type": "code",
   "execution_count": null,
   "id": "82e39bc1",
   "metadata": {},
   "outputs": [],
   "source": [
    "# check group0 properties\n",
    "# group0.slice(length=10).sort_by([(\"user_id\",\"ascending\"),(\"enddate\",\"ascending\")])\n",
    "# group0.filter(group0.field(\"user_id\") == 323)\n",
    "group0.field(\"user_id\")\n",
    "expr = pc.field(\"user_id\") < 323\n",
    "sub0 = group0.filter(mask = expr, null_selection_behavior = \"drop\")\n",
    "sub0.num_rows"
   ]
  },
  {
   "cell_type": "code",
   "execution_count": null,
   "id": "5b77d49d",
   "metadata": {},
   "outputs": [],
   "source": [
    "print(group0.column(\"user_id\").index(111))\n",
    "print(group0.column(\"user_id\").index(130452445))"
   ]
  },
  {
   "cell_type": "code",
   "execution_count": null,
   "id": "8e7d52e1",
   "metadata": {},
   "outputs": [],
   "source": [
    "id_expr = pc.field(\"user_id\") == 130452445\n",
    "ids.filter(id_expr)"
   ]
  },
  {
   "cell_type": "code",
   "execution_count": null,
   "id": "45ea531d",
   "metadata": {},
   "outputs": [],
   "source": [
    "# test df construction time\n",
    "\n",
    "numrows = ids.num_rows\n",
    "dt = {\"user_id\": ids.column(\"user_id\"), \"user_prof\": pd.Series([rd.user()] * numrows), \"skill\": pd.Series([rd.skill()] * numrows), \"edu1\": pd.Series([rd.edu()] * numrows), \"edu2\": pd.Series([rd.edu()] * numrows), \"edu3\": pd.Series([rd.edu()] * numrows), \"edu4\": pd.Series([rd.edu()] * numrows), \"pos1\": pd.Series([rd.pos()] * numrows), \"pos2\": pd.Series([rd.pos()] * numrows), \"pos3\": pd.Series([rd.pos()] * numrows), \"pos4\": pd.Series([rd.pos()] * numrows) }\n",
    "df = pd.DataFrame(dt)\n",
    "# tb = pa.Table.from_pydict(dt)"
   ]
  },
  {
   "cell_type": "code",
   "execution_count": null,
   "id": "39d6a587",
   "metadata": {},
   "outputs": [],
   "source": [
    "# print(df.head())\n",
    "print(df.dtypes)"
   ]
  },
  {
   "cell_type": "code",
   "execution_count": null,
   "id": "0b1c3a3d",
   "metadata": {},
   "outputs": [],
   "source": [
    "# check user dataset\n",
    "prof = pq.ParquetFile(\"{data_path}/US_EDUC/US_EDUC_user_part_1_0_249.parquet\".format(data_path=data_path))\n",
    "prof0 = prof.read_row_group(5).to_pandas()\n",
    "prof0[prof0[\"user_id\"] == 697508942]\n",
    "\n",
    "\n",
    "\n"
   ]
  },
  {
   "cell_type": "code",
   "execution_count": null,
   "id": "cd5451dc",
   "metadata": {},
   "outputs": [],
   "source": [
    "# test time of one iteration before df assignment\n",
    "expr = pc.field(\"user_id\") == 600272782\n",
    "thisuser = prof0.filter(mask = expr, null_selection_behavior = \"drop\")\n",
    "\n",
    "test_prof = rd.user()\n",
    "test_prof.update_value(thisuser.take([0]).to_pandas())\n",
    "\n"
   ]
  },
  {
   "cell_type": "code",
   "execution_count": null,
   "id": "429144f9",
   "metadata": {},
   "outputs": [],
   "source": [
    "# test df assignment time\n",
    "id_index = ids.column(\"user_id\").index(3655629).as_py()\n",
    "print(id_index)\n",
    "print(df.loc[id_index, \"user_prof\"])\n"
   ]
  },
  {
   "cell_type": "code",
   "execution_count": null,
   "id": "a7ce10f0",
   "metadata": {},
   "outputs": [],
   "source": [
    "df.loc[id_index, \"user_prof\"].update_value(thisuser.take([0]).to_pandas())\n",
    "print(df.loc[id_index, \"user_prof\"])"
   ]
  },
  {
   "cell_type": "code",
   "execution_count": null,
   "id": "709477df",
   "metadata": {},
   "outputs": [],
   "source": [
    "# test time of just df assignment\n",
    "df.loc[id_index, \"user_prof\"] = test_prof"
   ]
  },
  {
   "cell_type": "code",
   "execution_count": null,
   "id": "31553a8a",
   "metadata": {},
   "outputs": [],
   "source": [
    "prof0.slice(length=5).column(\"user_id\")"
   ]
  },
  {
   "cell_type": "code",
   "execution_count": null,
   "id": "0ce151b5",
   "metadata": {},
   "outputs": [],
   "source": [
    "# check user_position dataset\n",
    "pos = pq.ParquetFile(\"{data_path}/US_EDUC/US_EDUC_user_position_part_1_00_0_249.parquet\".format(data_path=data_path))\n",
    "pos0 = pos.read_row_group(0)\n",
    "pos0.schema\n",
    "pos0.num_rows"
   ]
  },
  {
   "cell_type": "code",
   "execution_count": null,
   "id": "29d7f53e",
   "metadata": {},
   "outputs": [],
   "source": [
    "print(pos0.slice(length=1).column(0)[0])\n",
    "print(pos0.column_names[0])\n",
    "print(pos0.column(\"user_id\")[0])"
   ]
  },
  {
   "cell_type": "code",
   "execution_count": null,
   "id": "baa4d756",
   "metadata": {},
   "outputs": [],
   "source": [
    "# pos0.select([\"title_raw\", \"role_k1500\", \"job_category\", \"role_k50\", \"role_k150\"])\n",
    "for (col_name, col_type) in itertools.zip_longest(pos0.schema.names, pos0.schema.types):\n",
    "    print(col_name,\",\", col_type)"
   ]
  },
  {
   "cell_type": "code",
   "execution_count": null,
   "id": "e440a045",
   "metadata": {},
   "outputs": [],
   "source": [
    "# check user_skill dataset\n",
    "skill = pq.ParquetFile(\"{data_path}/US_EDUC/US_EDUC_user_skill_part_0000_0049.parquet\".format(data_path=data_path))\n",
    "skill0 = skill.read_row_group(0)\n",
    "skill0.num_columns\n",
    "skill0.column(\"user_id\")[0]"
   ]
  },
  {
   "cell_type": "code",
   "execution_count": null,
   "id": "45f84065",
   "metadata": {},
   "outputs": [],
   "source": [
    "skill0.slice(length=3)"
   ]
  },
  {
   "cell_type": "code",
   "execution_count": null,
   "id": "bfaa7a43",
   "metadata": {},
   "outputs": [],
   "source": [
    "# test mutating df\n",
    "df1 = pd.DataFrame({\"a\":[1,2,3, 0], \"b\":[2,3,4,1], \"c\":pd.Series([pd.NA] * 4), \"d\":[7,7,8,6], \"e\": [\"drop\", \"may_drop\", \"no_drop\", \"drop\"]} )\n",
    "\n",
    "print(df1)\n",
    "\n",
    "df1.iloc[]"
   ]
  },
  {
   "cell_type": "code",
   "execution_count": null,
   "id": "9ba371fd",
   "metadata": {},
   "outputs": [],
   "source": []
  },
  {
   "cell_type": "code",
   "execution_count": null,
   "id": "5e98c17f",
   "metadata": {},
   "outputs": [],
   "source": [
    "for i in range(3,-1,-1):\n",
    "    print(i)"
   ]
  },
  {
   "cell_type": "code",
   "execution_count": null,
   "id": "d46520aa",
   "metadata": {},
   "outputs": [],
   "source": [
    "user_var= (\"user_id\",\n",
    "    \"firstname\",\n",
    "    \"lastname\",\n",
    "    \"fullname\",\n",
    "    \"f_prob\", \n",
    "    \"m_prob\", \n",
    "    \"white_prob\", \n",
    "    \"black_prob\", \n",
    "    \"api_prob\", \n",
    "    \"hispanic_prob\", \n",
    "    \"native_prob\", \n",
    "    \"multiple_prob\", \n",
    "    \"prestige\", \n",
    "    \"highest_degree\", \n",
    "    \"sex_predicted\", \n",
    "    \"ethnicity_predicted\", \n",
    "    \"profile_linkedin_url\", \n",
    "    \"user_location\", \n",
    "    \"user_country\", \n",
    "    \"profile_title\", \n",
    "    \"updated_dt\", \n",
    "    \"numconnections\", \n",
    "    \"profile_summary\",\n",
    "    \"updated\" )\n",
    "\n",
    "\n",
    "user_default= (0, # \"user_id\",\n",
    "               \"none\", # \"firstname\",\n",
    "                \"none\", # \"lastname\",\n",
    "                \"none\", # \"fullname\",\n",
    "                0.0, # \"f_prob\", \n",
    "                0.0, # \"m_prob\", \n",
    "                0.0, # \"white_prob\", \n",
    "                0.0, # \"black_prob\", \n",
    "                0.0, # \"api_prob\", \n",
    "                0.0, # \"hispanic_prob\", \n",
    "                0.0, # \"native_prob\", \n",
    "                0.0, # \"multiple_prob\", \n",
    "                0.0, # \"prestige\", \n",
    "                \"none\", # \"highest_degree\", \n",
    "                \"none\", # \"sex_predicted\", \n",
    "                \"none\", # \"ethnicity_predicted\", \n",
    "                \"none\", # \"profile_linkedin_url\", \n",
    "                \"none\", # \"user_location\", \n",
    "                \"none\", # \"user_country\", \n",
    "                \"none\", # \"profile_title\", \n",
    "                \"none\", # \"updated_dt\", \n",
    "                0, # \"numconnections\", \n",
    "                \"none\", # \"profile_summary\",\n",
    "                False)# \"updated\" )\n",
    "\n",
    "dt1 = {field_name: rg.make_default_list(field_default, 1, 100000) for (field_name, field_default) in itertools.zip_longest(user_var, user_default)}\n",
    "df1 = [pd.DataFrame(dt1), pd.DataFrame(dt1), pd.DataFrame(dt1), pd.DataFrame(dt1)]\n",
    "\n",
    "dt2 = {field_name: rg.make_default_list(field_default, 4, 100000) for (field_name, field_default) in itertools.zip_longest(user_var, user_default)}\n",
    "df2 = pd.DataFrame(dt2)"
   ]
  },
  {
   "cell_type": "code",
   "execution_count": null,
   "id": "cbe06c7d",
   "metadata": {},
   "outputs": [],
   "source": [
    "print(df2.at[1113, \"user_id\"][0])"
   ]
  },
  {
   "cell_type": "code",
   "execution_count": null,
   "id": "3cc20def",
   "metadata": {},
   "outputs": [],
   "source": [
    "import sys\n",
    "\n",
    "print(sys.getsizeof(df1[0]) + sys.getsizeof(df1[1]) + sys.getsizeof(df1[2]) + sys.getsizeof(df1[3]) )  \n",
    "\n",
    "print(sys.getsizeof(df2))\n",
    "\n",
    "# column_names = df2.columns.to_list()\n",
    "\n",
    "# column_names.remove(\"user_id\")\n",
    "\n",
    "# print(column_names)"
   ]
  },
  {
   "cell_type": "code",
   "execution_count": null,
   "id": "7d15a89e",
   "metadata": {},
   "outputs": [],
   "source": [
    "# test sets\n",
    "tset = {1, 5, 3, 4, 2}\n",
    "s = pd.Series(list(tset))\n",
    "print(s)"
   ]
  }
 ],
 "metadata": {
  "kernelspec": {
   "display_name": ".venv",
   "language": "python",
   "name": "python3"
  },
  "language_info": {
   "codemirror_mode": {
    "name": "ipython",
    "version": 3
   },
   "file_extension": ".py",
   "mimetype": "text/x-python",
   "name": "python",
   "nbconvert_exporter": "python",
   "pygments_lexer": "ipython3",
   "version": "3.11.2"
  }
 },
 "nbformat": 4,
 "nbformat_minor": 5
}
