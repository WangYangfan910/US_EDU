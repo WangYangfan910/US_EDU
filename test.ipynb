{
 "cells": [
  {
   "cell_type": "code",
   "execution_count": 1,
   "id": "bdad539d",
   "metadata": {},
   "outputs": [],
   "source": [
    "# import packages\n",
    "import os\n",
    "import dataclasses\n",
    "from dataclasses import dataclass\n",
    "import pandas as pd\n",
    "import numpy as np\n",
    "from datetime import date\n",
    "import pyarrow as pa\n",
    "import pyarrow.compute as pc\n",
    "import pyarrow.parquet as pq\n",
    "import itertools\n",
    "import read_data as rd\n"
   ]
  },
  {
   "cell_type": "code",
   "execution_count": 2,
   "id": "2f7ba9c2",
   "metadata": {},
   "outputs": [],
   "source": [
    "# set environment folders\n",
    "data_path = \"../data\""
   ]
  },
  {
   "cell_type": "code",
   "execution_count": 5,
   "id": "cabcfb14",
   "metadata": {},
   "outputs": [
    {
     "name": "stdout",
     "output_type": "stream",
     "text": [
      "[81, 82, 81, 82, 12, 15, 60, 8, 80, 15, 15, 83, 15, 11, 81, 15, 15, 15, 80, 15, 15, 11]\n"
     ]
    }
   ],
   "source": [
    "# read the number of group numbers in all the files\n",
    "file_list = os.listdir(\"{dir_path}/US_EDUC\".format(dir_path=data_path))\n",
    "\n",
    "row_group_list = []\n",
    "\n",
    "for file in file_list:\n",
    "    edus = pq.ParquetFile(\"{data_path}/US_EDUC/{file}\".format(data_path=data_path, file = file))\n",
    "    row_group_list.append(edus.num_row_groups)\n",
    "\n",
    "print(row_group_list)"
   ]
  },
  {
   "cell_type": "code",
   "execution_count": null,
   "id": "e5aded2b",
   "metadata": {},
   "outputs": [],
   "source": [
    "\n",
    "os.listdir(\"{data_path}/US_EDUC\".format(data_path=data_path))"
   ]
  },
  {
   "cell_type": "code",
   "execution_count": 23,
   "id": "26630a12",
   "metadata": {},
   "outputs": [
    {
     "data": {
      "text/plain": [
       "<pyarrow.Int64Scalar: 23843300>"
      ]
     },
     "execution_count": 23,
     "metadata": {},
     "output_type": "execute_result"
    }
   ],
   "source": [
    "# read user id dataset\n",
    "ids = pq.read_table(\"{data_path}/unique_user_id_US_EDUC.parquet\".format(data_path=data_path))\n",
    "# sort user id, later would useful in filtering\n",
    "ids = ids.sort_by(\"user_id\")\n",
    "min_id = ids.column(\"user_id\")[0].as_py()\n",
    "max_id = ids.column(\"user_id\")[-1].as_py()\n",
    "ids.column(\"user_id\").index(697508942)"
   ]
  },
  {
   "cell_type": "code",
   "execution_count": 5,
   "id": "336dafe0",
   "metadata": {},
   "outputs": [
    {
     "name": "stdout",
     "output_type": "stream",
     "text": [
      "min id is, 1000013\n",
      "max id is, 2096705167\n",
      "3655629\n"
     ]
    }
   ],
   "source": [
    "# check min and max id\n",
    "print(\"min id is,\", min_id)\n",
    "print(\"max id is,\", max_id)\n",
    "print(ids.column(\"user_id\")[100000])"
   ]
  },
  {
   "cell_type": "code",
   "execution_count": 4,
   "id": "510fa6ab",
   "metadata": {},
   "outputs": [
    {
     "data": {
      "text/plain": [
       "60"
      ]
     },
     "execution_count": 4,
     "metadata": {},
     "output_type": "execute_result"
    }
   ],
   "source": [
    "# read education\n",
    "edus = pq.ParquetFile(\"{data_path}/US_EDUC/US_EDUC_user_education.parquet\".format(data_path=data_path))\n",
    "# display edus metadata\n",
    "edus.num_row_groups"
   ]
  },
  {
   "cell_type": "code",
   "execution_count": 5,
   "id": "e2c57180",
   "metadata": {},
   "outputs": [
    {
     "name": "stdout",
     "output_type": "stream",
     "text": [
      "(1048576, 14)\n",
      "0          130452445\n",
      "1          130452445\n",
      "2          617479683\n",
      "3          617479683\n",
      "4          617479683\n",
      "             ...    \n",
      "1048571    353784875\n",
      "1048572    540751562\n",
      "1048573    540751562\n",
      "1048574    540751562\n",
      "1048575    540751562\n",
      "Name: user_id, Length: 1048576, dtype: int32\n",
      "[130452445 617479683 203520822 ... 279513580 353784875 540751562]\n"
     ]
    }
   ],
   "source": [
    "# try reading one rowgroup and check memory usage\n",
    "group0 = edus.read_row_group(0).to_pandas()\n",
    "\n",
    "group0 = group0[(group0[\"user_id\"] >= min_id) & (group0[\"user_id\"] <= max_id)]\n",
    "print(group0.shape)\n",
    "# num_rows = group0.num_rows\n",
    "# print(group0.loc[0,:])\n",
    "\n",
    "print(group0[\"user_id\"])\n",
    "\n",
    "print(pd.unique(group0[\"user_id\"]))\n",
    "\n"
   ]
  },
  {
   "cell_type": "code",
   "execution_count": 51,
   "id": "198115b4",
   "metadata": {},
   "outputs": [
    {
     "data": {
      "text/plain": [
       "2682"
      ]
     },
     "execution_count": 51,
     "metadata": {},
     "output_type": "execute_result"
    }
   ],
   "source": [
    "# get the number of people with insane education history\n",
    "\n",
    "off_df = group0[group0[\"education_number\"] > 6]\n",
    "len(pd.unique(off_df[\"user_id\"]))"
   ]
  },
  {
   "cell_type": "code",
   "execution_count": 50,
   "id": "cdcbafa7",
   "metadata": {},
   "outputs": [
    {
     "name": "stdout",
     "output_type": "stream",
     "text": [
      "        user_id                                     university_raw  \\\n",
      "1182  355326980                       Western Governors University   \n",
      "1183  355326980           Syracuse University - University College   \n",
      "1184  355326980                        Jones County Junior College   \n",
      "1185  355326980                         City University of Seattle   \n",
      "1186  355326980  Institute for Veterans and Military Families -...   \n",
      "1187  355326980                             The Sourcing Institute   \n",
      "1188  355326980             The University of Southern Mississippi   \n",
      "1189  355326980                       Kapi‘olani Community College   \n",
      "1190  355326980                         City University of Seattle   \n",
      "\n",
      "                                        university_name  education_number  \\\n",
      "1182                              University of Phoenix                 4   \n",
      "1183             syracuse university university college                 3   \n",
      "1184                        jones county junior college                 1   \n",
      "1185                         City University of Seattle                 9   \n",
      "1186  institute for veterans and military families ivmf                 8   \n",
      "1187                             the sourcing institute                 6   \n",
      "1188                 University of Southern Mississippi                 2   \n",
      "1189                       kapi olani community college                 5   \n",
      "1190                         City University of Seattle                 7   \n",
      "\n",
      "       startdate     enddate     degree      field  \\\n",
      "1182  2015-01-01  2017-01-31     Master  Education   \n",
      "1183  2015-01-01  2016-01-31      empty   Business   \n",
      "1184  2003-01-01  2006-01-31  Associate      empty   \n",
      "1185  2017-01-01  2019-01-31     Master  Education   \n",
      "1186  2017-01-01  2018-01-31      empty   Business   \n",
      "1187  2019-01-01  2019-01-31      empty      empty   \n",
      "1188  2007-01-01  2010-01-31   Bachelor      empty   \n",
      "1189  2017-01-01  2017-01-31  Associate      empty   \n",
      "1190  2019-01-01  2024-01-31      empty      empty   \n",
      "\n",
      "                                             degree_raw  \\\n",
      "1182                        Master of Education (M.Ed.)   \n",
      "1183                                               None   \n",
      "1184                                 Associate's degree   \n",
      "1185                          Master of Education - MEd   \n",
      "1186                                        Certificate   \n",
      "1187  TSI Foundation Diploma in Sourcing & Recruitin...   \n",
      "1188                                  Bachelor's degree   \n",
      "1189                        Associate of Science (A.S.)   \n",
      "1190                                Ed.D. in Leadership   \n",
      "\n",
      "                                     field_raw  world_rank  us_rank  \\\n",
      "1182   English/Language Arts Teacher Education         NaN      NaN   \n",
      "1183               Customer Service Management         NaN      NaN   \n",
      "1184                 Fine/Studio Arts, General         NaN      NaN   \n",
      "1185                Curriculum and Instruction         NaN      NaN   \n",
      "1186                        Project Management         NaN      NaN   \n",
      "1187                     Sourcing & Recruiting         NaN      NaN   \n",
      "1188                                 Sculpture         NaN    590.0   \n",
      "1189                   Pre-Nursing Studies CNA         NaN      NaN   \n",
      "1190  Strategic Innovation and Decision-making         NaN      NaN   \n",
      "\n",
      "     university_country  university_location  \n",
      "1182               None   Salt Lake City, UT  \n",
      "1183               None                 None  \n",
      "1184               None                 None  \n",
      "1185      United States  Seattle, Washington  \n",
      "1186               None                 None  \n",
      "1187               None                 None  \n",
      "1188      United States                 None  \n",
      "1189               None                 None  \n",
      "1190      United States  Seattle, Washington  \n"
     ]
    }
   ],
   "source": [
    "# print(group0.head())\n",
    "# drop the outlier\n",
    "# group0 = group0[group0[\"user_id\"] != 697508942]\n",
    "# get the maximum education number\n",
    "# max(group0[\"education_number\"])\n",
    "# print(group0[group0[\"education_number\"] == 8])\n",
    "# print(group0.loc[359753])\n",
    "print(group0[group0[\"user_id\"] == 355326980])"
   ]
  },
  {
   "cell_type": "code",
   "execution_count": null,
   "id": "ad147e44",
   "metadata": {},
   "outputs": [],
   "source": [
    "# check time of constructing and updating one edu instance\n",
    "edu_test = rd.edu()\n",
    "edu_test.update_value(group0.loc[0])\n",
    "print(edu_test)"
   ]
  },
  {
   "cell_type": "code",
   "execution_count": null,
   "id": "07118a3a",
   "metadata": {},
   "outputs": [],
   "source": [
    "# test value access in pandas.df\n",
    "df = pd.DataFrame(np.arange(12).reshape(3, 4),\n",
    "\n",
    "                  columns=['A', 'B', 'C', 'D'])\n",
    "\n",
    "print(df)\n",
    "\n",
    "df[0:2]\n"
   ]
  },
  {
   "cell_type": "code",
   "execution_count": null,
   "id": "82e39bc1",
   "metadata": {},
   "outputs": [],
   "source": [
    "# check group0 properties\n",
    "# group0.slice(length=10).sort_by([(\"user_id\",\"ascending\"),(\"enddate\",\"ascending\")])\n",
    "# group0.filter(group0.field(\"user_id\") == 323)\n",
    "group0.field(\"user_id\")\n",
    "expr = pc.field(\"user_id\") < 323\n",
    "sub0 = group0.filter(mask = expr, null_selection_behavior = \"drop\")\n",
    "sub0.num_rows"
   ]
  },
  {
   "cell_type": "code",
   "execution_count": null,
   "id": "5b77d49d",
   "metadata": {},
   "outputs": [],
   "source": [
    "print(group0.column(\"user_id\").index(111))\n",
    "print(group0.column(\"user_id\").index(130452445))"
   ]
  },
  {
   "cell_type": "code",
   "execution_count": null,
   "id": "8e7d52e1",
   "metadata": {},
   "outputs": [],
   "source": [
    "id_expr = pc.field(\"user_id\") == 130452445\n",
    "ids.filter(id_expr)"
   ]
  },
  {
   "cell_type": "code",
   "execution_count": null,
   "id": "45ea531d",
   "metadata": {},
   "outputs": [],
   "source": [
    "# test df construction time\n",
    "\n",
    "numrows = ids.num_rows\n",
    "dt = {\"user_id\": ids.column(\"user_id\"), \"user_prof\": pd.Series([rd.user()] * numrows), \"skill\": pd.Series([rd.skill()] * numrows), \"edu1\": pd.Series([rd.edu()] * numrows), \"edu2\": pd.Series([rd.edu()] * numrows), \"edu3\": pd.Series([rd.edu()] * numrows), \"edu4\": pd.Series([rd.edu()] * numrows), \"pos1\": pd.Series([rd.pos()] * numrows), \"pos2\": pd.Series([rd.pos()] * numrows), \"pos3\": pd.Series([rd.pos()] * numrows), \"pos4\": pd.Series([rd.pos()] * numrows) }\n",
    "df = pd.DataFrame(dt)\n",
    "# tb = pa.Table.from_pydict(dt)"
   ]
  },
  {
   "cell_type": "code",
   "execution_count": null,
   "id": "39d6a587",
   "metadata": {},
   "outputs": [],
   "source": [
    "# print(df.head())\n",
    "print(df.dtypes)"
   ]
  },
  {
   "cell_type": "code",
   "execution_count": 25,
   "id": "0b1c3a3d",
   "metadata": {},
   "outputs": [
    {
     "data": {
      "text/html": [
       "<div>\n",
       "<style scoped>\n",
       "    .dataframe tbody tr th:only-of-type {\n",
       "        vertical-align: middle;\n",
       "    }\n",
       "\n",
       "    .dataframe tbody tr th {\n",
       "        vertical-align: top;\n",
       "    }\n",
       "\n",
       "    .dataframe thead th {\n",
       "        text-align: right;\n",
       "    }\n",
       "</style>\n",
       "<table border=\"1\" class=\"dataframe\">\n",
       "  <thead>\n",
       "    <tr style=\"text-align: right;\">\n",
       "      <th></th>\n",
       "      <th>user_id</th>\n",
       "      <th>firstname</th>\n",
       "      <th>lastname</th>\n",
       "      <th>fullname</th>\n",
       "      <th>f_prob</th>\n",
       "      <th>m_prob</th>\n",
       "      <th>white_prob</th>\n",
       "      <th>black_prob</th>\n",
       "      <th>api_prob</th>\n",
       "      <th>hispanic_prob</th>\n",
       "      <th>...</th>\n",
       "      <th>highest_degree</th>\n",
       "      <th>sex_predicted</th>\n",
       "      <th>ethnicity_predicted</th>\n",
       "      <th>profile_linkedin_url</th>\n",
       "      <th>user_location</th>\n",
       "      <th>user_country</th>\n",
       "      <th>profile_title</th>\n",
       "      <th>updated_dt</th>\n",
       "      <th>numconnections</th>\n",
       "      <th>profile_summary</th>\n",
       "    </tr>\n",
       "  </thead>\n",
       "  <tbody>\n",
       "  </tbody>\n",
       "</table>\n",
       "<p>0 rows × 23 columns</p>\n",
       "</div>"
      ],
      "text/plain": [
       "Empty DataFrame\n",
       "Columns: [user_id, firstname, lastname, fullname, f_prob, m_prob, white_prob, black_prob, api_prob, hispanic_prob, native_prob, multiple_prob, prestige, highest_degree, sex_predicted, ethnicity_predicted, profile_linkedin_url, user_location, user_country, profile_title, updated_dt, numconnections, profile_summary]\n",
       "Index: []\n",
       "\n",
       "[0 rows x 23 columns]"
      ]
     },
     "execution_count": 25,
     "metadata": {},
     "output_type": "execute_result"
    }
   ],
   "source": [
    "# check user dataset\n",
    "prof = pq.ParquetFile(\"{data_path}/US_EDUC/US_EDUC_user_part_1_0_249.parquet\".format(data_path=data_path))\n",
    "prof0 = prof.read_row_group(5).to_pandas()\n",
    "prof0[prof0[\"user_id\"] == 697508942]\n",
    "\n",
    "\n",
    "\n"
   ]
  },
  {
   "cell_type": "code",
   "execution_count": null,
   "id": "cd5451dc",
   "metadata": {},
   "outputs": [],
   "source": [
    "# test time of one iteration before df assignment\n",
    "expr = pc.field(\"user_id\") == 600272782\n",
    "thisuser = prof0.filter(mask = expr, null_selection_behavior = \"drop\")\n",
    "\n",
    "test_prof = rd.user()\n",
    "test_prof.update_value(thisuser.take([0]).to_pandas())\n",
    "\n"
   ]
  },
  {
   "cell_type": "code",
   "execution_count": null,
   "id": "429144f9",
   "metadata": {},
   "outputs": [],
   "source": [
    "# test df assignment time\n",
    "id_index = ids.column(\"user_id\").index(3655629).as_py()\n",
    "print(id_index)\n",
    "print(df.loc[id_index, \"user_prof\"])\n"
   ]
  },
  {
   "cell_type": "code",
   "execution_count": null,
   "id": "a7ce10f0",
   "metadata": {},
   "outputs": [],
   "source": [
    "df.loc[id_index, \"user_prof\"].update_value(thisuser.take([0]).to_pandas())\n",
    "print(df.loc[id_index, \"user_prof\"])"
   ]
  },
  {
   "cell_type": "code",
   "execution_count": null,
   "id": "709477df",
   "metadata": {},
   "outputs": [],
   "source": [
    "# test time of just df assignment\n",
    "df.loc[id_index, \"user_prof\"] = test_prof"
   ]
  },
  {
   "cell_type": "code",
   "execution_count": null,
   "id": "31553a8a",
   "metadata": {},
   "outputs": [],
   "source": [
    "prof0.slice(length=5).column(\"user_id\")"
   ]
  },
  {
   "cell_type": "code",
   "execution_count": 5,
   "id": "0ce151b5",
   "metadata": {},
   "outputs": [
    {
     "data": {
      "text/plain": [
       "1048576"
      ]
     },
     "execution_count": 5,
     "metadata": {},
     "output_type": "execute_result"
    }
   ],
   "source": [
    "# check user_position dataset\n",
    "pos = pq.ParquetFile(\"{data_path}/US_EDUC/US_EDUC_user_position_part_1_00_0_249.parquet\".format(data_path=data_path))\n",
    "pos0 = pos.read_row_group(0)\n",
    "pos0.schema\n",
    "pos0.num_rows"
   ]
  },
  {
   "cell_type": "code",
   "execution_count": null,
   "id": "29d7f53e",
   "metadata": {},
   "outputs": [],
   "source": [
    "print(pos0.slice(length=1).column(0)[0])\n",
    "print(pos0.column_names[0])\n",
    "print(pos0.column(\"user_id\")[0])"
   ]
  },
  {
   "cell_type": "code",
   "execution_count": 6,
   "id": "baa4d756",
   "metadata": {},
   "outputs": [
    {
     "name": "stdout",
     "output_type": "stream",
     "text": [
      "user_id , int64\n",
      "position_id , int64\n",
      "company_raw , string\n",
      "company_linkedin_url , string\n",
      "company_cleaned , string\n",
      "location_raw , string\n",
      "region , string\n",
      "country , string\n",
      "state , string\n",
      "metro_area , string\n",
      "startdate , string\n",
      "enddate , string\n",
      "title_raw , string\n",
      "role_k1500 , string\n",
      "job_category , string\n",
      "role_k50 , string\n",
      "role_k150 , string\n",
      "role_k300 , string\n",
      "role_k500 , string\n",
      "role_k1000 , string\n",
      "remote_suitability , float\n",
      "weight , float\n",
      "description , string\n",
      "start_salary , double\n",
      "end_salary , double\n",
      "seniority , int16\n",
      "salary , float\n",
      "position_number , int16\n",
      "rcid , double\n",
      "company_name , string\n",
      "ultimate_parent_rcid , double\n",
      "ultimate_parent_company_name , string\n",
      "onet_code , string\n",
      "onet_title , string\n",
      "ticker , string\n",
      "exchange , string\n",
      "cusip , string\n",
      "naics_code , string\n",
      "naics_description , string\n",
      "ultimate_parent_factset_id , string\n",
      "ultimate_parent_factset_name , string\n",
      "total_compensation , float\n",
      "additional_compensation , float\n",
      "title_translated , string\n"
     ]
    }
   ],
   "source": [
    "# pos0.select([\"title_raw\", \"role_k1500\", \"job_category\", \"role_k50\", \"role_k150\"])\n",
    "for (col_name, col_type) in itertools.zip_longest(pos0.schema.names, pos0.schema.types):\n",
    "    print(col_name,\",\", col_type)"
   ]
  },
  {
   "cell_type": "code",
   "execution_count": null,
   "id": "e440a045",
   "metadata": {},
   "outputs": [],
   "source": [
    "# check user_skill dataset\n",
    "skill = pq.ParquetFile(\"{data_path}/US_EDUC/US_EDUC_user_skill_part_0000_0049.parquet\".format(data_path=data_path))\n",
    "skill0 = skill.read_row_group(0)\n",
    "skill0.num_columns\n",
    "skill0.column(\"user_id\")[0]"
   ]
  },
  {
   "cell_type": "code",
   "execution_count": null,
   "id": "45f84065",
   "metadata": {},
   "outputs": [],
   "source": [
    "skill0.slice(length=3)"
   ]
  },
  {
   "cell_type": "code",
   "execution_count": 9,
   "id": "bfaa7a43",
   "metadata": {},
   "outputs": [
    {
     "name": "stdout",
     "output_type": "stream",
     "text": [
      "   a  b     c  d         e\n",
      "0  1  2  <NA>  7      drop\n",
      "1  2  3  <NA>  7  may_drop\n",
      "2  3  4  <NA>  8   no_drop\n",
      "2\n"
     ]
    }
   ],
   "source": [
    "# test mutating df\n",
    "df1 = pd.DataFrame({\"a\":[1,2,3], \"b\":[2,3,4], \"c\":pd.Series([pd.NA] * 3), \"d\":[7,7,8], \"e\": [\"drop\", \"may_drop\", \"no_drop\"]}, )\n",
    "\n",
    "print(df1)\n",
    "\n",
    "# df1=df1[~df1[\"e\"].isin([\"drop\", \"may_drop\"])]\n",
    "sub_data = df1[0:3]\n",
    "\n",
    "print(sub_data[sub_data[\"d\"] == 7].shape[0])\n",
    "\n",
    "# print(df1)\n",
    "\n",
    "# df2 = pd.DataFrame({\"a\":[2,2,8], \"b\":[2,3,5], \"c\":pd.Series([pd.NA] * 3), \"d\":[7,7,8]})\n",
    "# print(df1)\n",
    "# df1.iloc[2, 0:-1] = df2.iloc[2, 0:-1]\n",
    "# print(df1)\n",
    "# df2.loc[2, \"a\"] = 100 \n",
    "# print(df1)\n",
    "# print(df2)\n",
    "# print(df1.iloc[0,0:-1])"
   ]
  },
  {
   "cell_type": "code",
   "execution_count": null,
   "id": "5e98c17f",
   "metadata": {},
   "outputs": [],
   "source": [
    "for i in range(3,-1,-1):\n",
    "    print(i)"
   ]
  },
  {
   "cell_type": "code",
   "execution_count": 57,
   "id": "d46520aa",
   "metadata": {},
   "outputs": [],
   "source": [
    "user_var= (\"user_id\",\n",
    "    \"firstname\",\n",
    "    \"lastname\",\n",
    "    \"fullname\",\n",
    "    \"f_prob\", \n",
    "    \"m_prob\", \n",
    "    \"white_prob\", \n",
    "    \"black_prob\", \n",
    "    \"api_prob\", \n",
    "    \"hispanic_prob\", \n",
    "    \"native_prob\", \n",
    "    \"multiple_prob\", \n",
    "    \"prestige\", \n",
    "    \"highest_degree\", \n",
    "    \"sex_predicted\", \n",
    "    \"ethnicity_predicted\", \n",
    "    \"profile_linkedin_url\", \n",
    "    \"user_location\", \n",
    "    \"user_country\", \n",
    "    \"profile_title\", \n",
    "    \"updated_dt\", \n",
    "    \"numconnections\", \n",
    "    \"profile_summary\",\n",
    "    \"updated\" )\n",
    "\n",
    "\n",
    "user_default= (0, # \"user_id\",\n",
    "               \"none\", # \"firstname\",\n",
    "                \"none\", # \"lastname\",\n",
    "                \"none\", # \"fullname\",\n",
    "                0.0, # \"f_prob\", \n",
    "                0.0, # \"m_prob\", \n",
    "                0.0, # \"white_prob\", \n",
    "                0.0, # \"black_prob\", \n",
    "                0.0, # \"api_prob\", \n",
    "                0.0, # \"hispanic_prob\", \n",
    "                0.0, # \"native_prob\", \n",
    "                0.0, # \"multiple_prob\", \n",
    "                0.0, # \"prestige\", \n",
    "                \"none\", # \"highest_degree\", \n",
    "                \"none\", # \"sex_predicted\", \n",
    "                \"none\", # \"ethnicity_predicted\", \n",
    "                \"none\", # \"profile_linkedin_url\", \n",
    "                \"none\", # \"user_location\", \n",
    "                \"none\", # \"user_country\", \n",
    "                \"none\", # \"profile_title\", \n",
    "                \"none\", # \"updated_dt\", \n",
    "                0, # \"numconnections\", \n",
    "                \"none\", # \"profile_summary\",\n",
    "                False)# \"updated\" )\n",
    "\n",
    "dt = {field_name: [field_default] * 3 for (field_name, field_default) in itertools.zip_longest(user_var, user_default)}\n",
    "dt[\"user_id\"] = ids.slice(length=3).column(\"user_id\")\n",
    "df = pd.DataFrame(dt)"
   ]
  },
  {
   "cell_type": "code",
   "execution_count": 58,
   "id": "3cc20def",
   "metadata": {},
   "outputs": [
    {
     "data": {
      "text/plain": [
       "user_id                   int32\n",
       "firstname                object\n",
       "lastname                 object\n",
       "fullname                 object\n",
       "f_prob                  float64\n",
       "m_prob                  float64\n",
       "white_prob              float64\n",
       "black_prob              float64\n",
       "api_prob                float64\n",
       "hispanic_prob           float64\n",
       "native_prob             float64\n",
       "multiple_prob           float64\n",
       "prestige                float64\n",
       "highest_degree           object\n",
       "sex_predicted            object\n",
       "ethnicity_predicted      object\n",
       "profile_linkedin_url     object\n",
       "user_location            object\n",
       "user_country             object\n",
       "profile_title            object\n",
       "updated_dt               object\n",
       "numconnections            int64\n",
       "profile_summary          object\n",
       "updated                    bool\n",
       "dtype: object"
      ]
     },
     "execution_count": 58,
     "metadata": {},
     "output_type": "execute_result"
    }
   ],
   "source": [
    "df.dtypes"
   ]
  }
 ],
 "metadata": {
  "kernelspec": {
   "display_name": ".venv",
   "language": "python",
   "name": "python3"
  },
  "language_info": {
   "codemirror_mode": {
    "name": "ipython",
    "version": 3
   },
   "file_extension": ".py",
   "mimetype": "text/x-python",
   "name": "python",
   "nbconvert_exporter": "python",
   "pygments_lexer": "ipython3",
   "version": "3.11.2"
  }
 },
 "nbformat": 4,
 "nbformat_minor": 5
}
