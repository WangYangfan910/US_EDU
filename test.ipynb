{
 "cells": [
  {
   "cell_type": "code",
   "execution_count": 1,
   "id": "bdad539d",
   "metadata": {},
   "outputs": [],
   "source": [
    "# import packages\n",
    "import os\n",
    "import dataclasses\n",
    "from dataclasses import dataclass\n",
    "import pandas as pd\n",
    "import numpy as np\n",
    "from datetime import date\n",
    "import pyarrow as pa\n",
    "import pyarrow.compute as pc\n",
    "import pyarrow.parquet as pq\n",
    "import itertools\n"
   ]
  },
  {
   "cell_type": "code",
   "execution_count": null,
   "id": "d46520aa",
   "metadata": {},
   "outputs": [],
   "source": [
    "@dataclass\n",
    "class edu:\n",
    "    university_raw: str = \"none\"\n",
    "    university_name: str = \"none\"\n",
    "    education_number: np.int32 = np.int32(0)\n",
    "    startdate: pa.date32 = date(2077, 9, 10)\n",
    "    enddate: pa.date32 = date(2077, 9, 10)\n",
    "    degree: str = \"none\"\n",
    "    field: str = \"none\"\n",
    "    degree_raw: str = \"none\"\n",
    "    field_raw: str = \"none\"\n",
    "    world_rank: np.double = np.double(0)\n",
    "    us_rank: np.double = np.double(0)\n",
    "    university_country: str = \"none\"\n",
    "    university_location: str = \"none\"\n",
    "\n",
    "\n",
    "edu_test = edu()"
   ]
  },
  {
   "cell_type": "code",
   "execution_count": null,
   "id": "69df2393",
   "metadata": {},
   "outputs": [],
   "source": [
    "dataclasses.asdict(edu_test).keys()\n",
    "setattr(edu_test, \"field\", \"Physics\")\n",
    "edu_test"
   ]
  },
  {
   "cell_type": "code",
   "execution_count": 3,
   "id": "2f7ba9c2",
   "metadata": {},
   "outputs": [],
   "source": [
    "# set environment folders\n",
    "data_path = \"../data\""
   ]
  },
  {
   "cell_type": "code",
   "execution_count": null,
   "id": "e5aded2b",
   "metadata": {},
   "outputs": [],
   "source": [
    "\n",
    "os.listdir(\"{data_path}/US_EDUC\".format(data_path=data_path))"
   ]
  },
  {
   "cell_type": "code",
   "execution_count": null,
   "id": "26630a12",
   "metadata": {},
   "outputs": [],
   "source": [
    "# read user id dataset\n",
    "ids = pq.read_table(\"{data_path}/unique_user_id_US_EDUC.parquet\".format(data_path=data_path))\n",
    "# sort user id: later would useful in filtering\n",
    "ids.sort_by(\"user_id\")\n",
    "# min_id = ids.column(\"user_id\")[0]\n",
    "# max_id = ids.column(\"user_id\")[-1]\n"
   ]
  },
  {
   "cell_type": "code",
   "execution_count": null,
   "id": "194569f7",
   "metadata": {},
   "outputs": [],
   "source": [
    "ids.column(\"user_id\")"
   ]
  },
  {
   "cell_type": "code",
   "execution_count": null,
   "id": "336dafe0",
   "metadata": {},
   "outputs": [],
   "source": [
    "# check min and max id\n",
    "print(\"min id is:\", min_id)\n",
    "print(\"max id is:\", max_id)"
   ]
  },
  {
   "cell_type": "code",
   "execution_count": 4,
   "id": "510fa6ab",
   "metadata": {},
   "outputs": [
    {
     "data": {
      "text/plain": [
       "<pyarrow._parquet.FileMetaData object at 0x7f268c8076a0>\n",
       "  created_by: parquet-cpp-arrow version 14.0.2\n",
       "  num_columns: 14\n",
       "  num_rows: 62129675\n",
       "  num_row_groups: 60\n",
       "  format_version: 2.6\n",
       "  serialized_size: 105949"
      ]
     },
     "execution_count": 4,
     "metadata": {},
     "output_type": "execute_result"
    }
   ],
   "source": [
    "# read education\n",
    "edus = pq.ParquetFile(\"{data_path}/US_EDUC/US_EDUC_user_education.parquet\".format(data_path=data_path))\n",
    "# display edus metadata\n",
    "edus.metadata"
   ]
  },
  {
   "cell_type": "code",
   "execution_count": null,
   "id": "e2c57180",
   "metadata": {},
   "outputs": [],
   "source": [
    "# try reading one rowgroup and check memory usage\n",
    "group0 = edus.read_row_group(0)\n",
    "group0.slice(length=6)\n",
    "\n",
    "expr = pc.field(\"user_id\") == 617479683\n",
    "group0.filter(expr).sort_by(\"enddate\")"
   ]
  },
  {
   "cell_type": "code",
   "execution_count": null,
   "id": "ad147e44",
   "metadata": {},
   "outputs": [],
   "source": [
    "group0.column(\"user_id\").unique()"
   ]
  },
  {
   "cell_type": "code",
   "execution_count": null,
   "id": "82e39bc1",
   "metadata": {},
   "outputs": [],
   "source": [
    "# check group0 properties\n",
    "# group0.slice(length=10).sort_by([(\"user_id\",\"ascending\"),(\"enddate\",\"ascending\")])\n",
    "# group0.filter(group0.field(\"user_id\") == 323)\n",
    "group0.field(\"user_id\")\n",
    "expr = pc.field(\"user_id\") < 323\n",
    "sub0 = group0.filter(mask = expr, null_selection_behavior = \"drop\")\n",
    "sub0.num_rows"
   ]
  },
  {
   "cell_type": "code",
   "execution_count": null,
   "id": "5b77d49d",
   "metadata": {},
   "outputs": [],
   "source": [
    "print(group0.column(\"user_id\").index(111))\n",
    "print(group0.column(\"user_id\").index(130452445))"
   ]
  },
  {
   "cell_type": "code",
   "execution_count": null,
   "id": "8e7d52e1",
   "metadata": {},
   "outputs": [],
   "source": [
    "id_expr = pc.field(\"user_id\") == 130452445\n",
    "ids.filter(id_expr)"
   ]
  },
  {
   "cell_type": "code",
   "execution_count": null,
   "id": "0b1c3a3d",
   "metadata": {},
   "outputs": [],
   "source": [
    "# check user dataset\n",
    "edus = pq.ParquetFile(\"{data_path}/US_EDUC/US_EDUC_user_part_1_0_249.parquet\".format(data_path=data_path))\n",
    "edu0 = edus.read_row_group(0)\n",
    "edu0.schema"
   ]
  },
  {
   "cell_type": "code",
   "execution_count": null,
   "id": "31553a8a",
   "metadata": {},
   "outputs": [],
   "source": [
    "edu0.slice(length=5).column(\"user_id\")"
   ]
  },
  {
   "cell_type": "code",
   "execution_count": null,
   "id": "0ce151b5",
   "metadata": {},
   "outputs": [
    {
     "ename": "NameError",
     "evalue": "name 'data_path' is not defined",
     "output_type": "error",
     "traceback": [
      "\u001b[31m---------------------------------------------------------------------------\u001b[39m",
      "\u001b[31mNameError\u001b[39m                                 Traceback (most recent call last)",
      "\u001b[36mCell\u001b[39m\u001b[36m \u001b[39m\u001b[32mIn[2]\u001b[39m\u001b[32m, line 2\u001b[39m\n\u001b[32m      1\u001b[39m \u001b[38;5;66;03m# check user_position dataset\u001b[39;00m\n\u001b[32m----> \u001b[39m\u001b[32m2\u001b[39m pos = pq.ParquetFile(\u001b[33m\"\u001b[39m\u001b[38;5;132;01m{data_path}\u001b[39;00m\u001b[33m/US_EDUC/US_EDUC_user_position_part_1_00_0_249.parquet\u001b[39m\u001b[33m\"\u001b[39m.format(data_path=\u001b[43mdata_path\u001b[49m))\n\u001b[32m      3\u001b[39m pos.metadata\n\u001b[32m      4\u001b[39m \u001b[38;5;66;03m# pos0 = pos.read_row_group(0)\u001b[39;00m\n\u001b[32m      5\u001b[39m \u001b[38;5;66;03m# pos0.schema\u001b[39;00m\n",
      "\u001b[31mNameError\u001b[39m: name 'data_path' is not defined"
     ]
    }
   ],
   "source": [
    "# check user_position dataset\n",
    "pos = pq.ParquetFile(\"{data_path}/US_EDUC/US_EDUC_user_position_part_1_00_0_249.parquet\".format(data_path=data_path))\n",
    "pos0 = pos.read_row_group(0)\n",
    "pos0.schema"
   ]
  },
  {
   "cell_type": "code",
   "execution_count": null,
   "id": "29d7f53e",
   "metadata": {},
   "outputs": [],
   "source": [
    "print(pos0.slice(length=1).column(0)[0])\n",
    "print(pos0.column_names[0])\n",
    "print(pos0.column(\"user_id\")[0])"
   ]
  },
  {
   "cell_type": "code",
   "execution_count": null,
   "id": "baa4d756",
   "metadata": {},
   "outputs": [],
   "source": [
    "# pos0.select([\"title_raw\", \"role_k1500\", \"job_category\", \"role_k50\", \"role_k150\"])\n",
    "for (col_name, col_type) in itertools.zip_longest(pos0.schema.names, pos0.schema.types):\n",
    "    print(col_name,\":\", col_type)"
   ]
  },
  {
   "cell_type": "code",
   "execution_count": null,
   "id": "e440a045",
   "metadata": {},
   "outputs": [],
   "source": [
    "# check user_skill dataset\n",
    "skill = pq.ParquetFile(\"{data_path}/US_EDUC/US_EDUC_user_skill_part_0000_0049.parquet\".format(data_path=data_path))\n",
    "skill0 = skill.read_row_group(0)\n",
    "skill0.num_columns\n",
    "skill0.column(\"user_id\")[0]"
   ]
  },
  {
   "cell_type": "code",
   "execution_count": null,
   "id": "45f84065",
   "metadata": {},
   "outputs": [],
   "source": [
    "skill0.slice(length=3)"
   ]
  },
  {
   "cell_type": "code",
   "execution_count": null,
   "id": "bfaa7a43",
   "metadata": {},
   "outputs": [],
   "source": [
    "df = pd.DataFrame({\"a\":[1,2,3], \"b\":[2,3,4], \"c\":pd.Series([pd.NA] * 3)})\n",
    "print(df)\n",
    "df.loc[df[\"a\"]==2, \"c\"] = 10\n",
    "print(df)"
   ]
  },
  {
   "cell_type": "code",
   "execution_count": null,
   "id": "5e98c17f",
   "metadata": {},
   "outputs": [],
   "source": [
    "for i in range(3,-1,-1):\n",
    "    print(i)"
   ]
  }
 ],
 "metadata": {
  "kernelspec": {
   "display_name": ".venv",
   "language": "python",
   "name": "python3"
  },
  "language_info": {
   "codemirror_mode": {
    "name": "ipython",
    "version": 3
   },
   "file_extension": ".py",
   "mimetype": "text/x-python",
   "name": "python",
   "nbconvert_exporter": "python",
   "pygments_lexer": "ipython3",
   "version": "3.11.2"
  }
 },
 "nbformat": 4,
 "nbformat_minor": 5
}
