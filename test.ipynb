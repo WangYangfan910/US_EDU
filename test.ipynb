{
 "cells": [
  {
   "cell_type": "code",
   "execution_count": 1,
   "id": "bdad539d",
   "metadata": {},
   "outputs": [],
   "source": [
    "# import packages\n",
    "import os\n",
    "import dataclasses\n",
    "from dataclasses import dataclass\n",
    "import pandas as pd\n",
    "import numpy as np\n",
    "from datetime import date\n",
    "import pyarrow as pa\n",
    "import pyarrow.compute as pc\n",
    "import pyarrow.parquet as pq\n",
    "import itertools\n",
    "import read_data as rd\n"
   ]
  },
  {
   "cell_type": "code",
   "execution_count": 2,
   "id": "2f7ba9c2",
   "metadata": {},
   "outputs": [],
   "source": [
    "# set environment folders\n",
    "data_path = \"../data\""
   ]
  },
  {
   "cell_type": "code",
   "execution_count": null,
   "id": "cabcfb14",
   "metadata": {},
   "outputs": [],
   "source": [
    "# test tuple\n",
    "\n",
    "test_tp = (1,2)\n",
    "print(test_tp)\n",
    "test_tp[0]"
   ]
  },
  {
   "cell_type": "code",
   "execution_count": null,
   "id": "f6f18571",
   "metadata": {},
   "outputs": [],
   "source": [
    "# test creating pa.struct type edu class\n",
    "edu_fields = [(\"university_raw\", pa.string()),\n",
    "    (\"university_name\", pa.string())]\n",
    "\n",
    "edu = pa.struct(edu_fields)\n",
    "\n",
    "\n",
    "print(edu)"
   ]
  },
  {
   "cell_type": "code",
   "execution_count": null,
   "id": "f5b0e87e",
   "metadata": {},
   "outputs": [],
   "source": []
  },
  {
   "cell_type": "code",
   "execution_count": null,
   "id": "e5aded2b",
   "metadata": {},
   "outputs": [],
   "source": [
    "\n",
    "os.listdir(\"{data_path}/US_EDUC\".format(data_path=data_path))"
   ]
  },
  {
   "cell_type": "code",
   "execution_count": 4,
   "id": "26630a12",
   "metadata": {},
   "outputs": [],
   "source": [
    "# read user id dataset\n",
    "ids = pq.read_table(\"{data_path}/unique_user_id_US_EDUC.parquet\".format(data_path=data_path))\n",
    "# sort user id, later would useful in filtering\n",
    "ids = ids.sort_by(\"user_id\")\n",
    "min_id = ids.column(\"user_id\")[0].as_py()\n",
    "max_id = ids.column(\"user_id\")[-1].as_py()"
   ]
  },
  {
   "cell_type": "code",
   "execution_count": null,
   "id": "194569f7",
   "metadata": {},
   "outputs": [],
   "source": [
    "ids.column(\"user_id\").index(2096705167)"
   ]
  },
  {
   "cell_type": "code",
   "execution_count": 5,
   "id": "336dafe0",
   "metadata": {},
   "outputs": [
    {
     "name": "stdout",
     "output_type": "stream",
     "text": [
      "min id is, 1000013\n",
      "max id is, 2096705167\n",
      "3655629\n"
     ]
    }
   ],
   "source": [
    "# check min and max id\n",
    "print(\"min id is,\", min_id)\n",
    "print(\"max id is,\", max_id)\n",
    "print(ids.column(\"user_id\")[100000])"
   ]
  },
  {
   "cell_type": "code",
   "execution_count": 6,
   "id": "510fa6ab",
   "metadata": {},
   "outputs": [
    {
     "data": {
      "text/plain": [
       "<pyarrow._parquet.FileMetaData object at 0x7f34d365bb50>\n",
       "  created_by: parquet-cpp-arrow version 14.0.2\n",
       "  num_columns: 14\n",
       "  num_rows: 62129675\n",
       "  num_row_groups: 60\n",
       "  format_version: 2.6\n",
       "  serialized_size: 105949"
      ]
     },
     "execution_count": 6,
     "metadata": {},
     "output_type": "execute_result"
    }
   ],
   "source": [
    "# read education\n",
    "edus = pq.ParquetFile(\"{data_path}/US_EDUC/US_EDUC_user_education.parquet\".format(data_path=data_path))\n",
    "# display edus metadata\n",
    "edus.metadata"
   ]
  },
  {
   "cell_type": "code",
   "execution_count": 11,
   "id": "e2c57180",
   "metadata": {},
   "outputs": [
    {
     "name": "stdout",
     "output_type": "stream",
     "text": [
      "(1048576, 14)\n",
      "0          130452445\n",
      "1          130452445\n",
      "2          617479683\n",
      "3          617479683\n",
      "4          617479683\n",
      "             ...    \n",
      "1048571    353784875\n",
      "1048572    540751562\n",
      "1048573    540751562\n",
      "1048574    540751562\n",
      "1048575    540751562\n",
      "Name: user_id, Length: 1048576, dtype: int32\n",
      "[130452445 617479683 203520822 ... 279513580 353784875 540751562]\n"
     ]
    }
   ],
   "source": [
    "# try reading one rowgroup and check memory usage\n",
    "group0 = edus.read_row_group(0).to_pandas()\n",
    "\n",
    "group0 = group0[(group0[\"user_id\"] >= min_id) & (group0[\"user_id\"] <= max_id)]\n",
    "print(group0.shape)\n",
    "# num_rows = group0.num_rows\n",
    "# print(group0.loc[0,:])\n",
    "\n",
    "print(group0[\"user_id\"])\n",
    "\n",
    "print(pd.unique(group0[\"user_id\"]))\n",
    "\n"
   ]
  },
  {
   "cell_type": "code",
   "execution_count": null,
   "id": "ad147e44",
   "metadata": {},
   "outputs": [],
   "source": [
    "# check time of constructing and updating one edu instance\n",
    "edu_test = rd.edu()\n",
    "edu_test.update_value(group0.loc[0])\n",
    "print(edu_test)"
   ]
  },
  {
   "cell_type": "code",
   "execution_count": null,
   "id": "07118a3a",
   "metadata": {},
   "outputs": [],
   "source": [
    "# test value access in pandas.df\n",
    "df = pd.DataFrame(np.arange(12).reshape(3, 4),\n",
    "\n",
    "                  columns=['A', 'B', 'C', 'D'])\n",
    "\n",
    "print(df)\n",
    "\n",
    "df[0:2]\n"
   ]
  },
  {
   "cell_type": "code",
   "execution_count": null,
   "id": "82e39bc1",
   "metadata": {},
   "outputs": [],
   "source": [
    "# check group0 properties\n",
    "# group0.slice(length=10).sort_by([(\"user_id\",\"ascending\"),(\"enddate\",\"ascending\")])\n",
    "# group0.filter(group0.field(\"user_id\") == 323)\n",
    "group0.field(\"user_id\")\n",
    "expr = pc.field(\"user_id\") < 323\n",
    "sub0 = group0.filter(mask = expr, null_selection_behavior = \"drop\")\n",
    "sub0.num_rows"
   ]
  },
  {
   "cell_type": "code",
   "execution_count": null,
   "id": "5b77d49d",
   "metadata": {},
   "outputs": [],
   "source": [
    "print(group0.column(\"user_id\").index(111))\n",
    "print(group0.column(\"user_id\").index(130452445))"
   ]
  },
  {
   "cell_type": "code",
   "execution_count": null,
   "id": "8e7d52e1",
   "metadata": {},
   "outputs": [],
   "source": [
    "id_expr = pc.field(\"user_id\") == 130452445\n",
    "ids.filter(id_expr)"
   ]
  },
  {
   "cell_type": "code",
   "execution_count": null,
   "id": "45ea531d",
   "metadata": {},
   "outputs": [],
   "source": [
    "# test df construction time\n",
    "\n",
    "numrows = ids.num_rows\n",
    "dt = {\"user_id\": ids.column(\"user_id\"), \"user_prof\": pd.Series([rd.user()] * numrows), \"skill\": pd.Series([rd.skill()] * numrows), \"edu1\": pd.Series([rd.edu()] * numrows), \"edu2\": pd.Series([rd.edu()] * numrows), \"edu3\": pd.Series([rd.edu()] * numrows), \"edu4\": pd.Series([rd.edu()] * numrows), \"pos1\": pd.Series([rd.pos()] * numrows), \"pos2\": pd.Series([rd.pos()] * numrows), \"pos3\": pd.Series([rd.pos()] * numrows), \"pos4\": pd.Series([rd.pos()] * numrows) }\n",
    "df = pd.DataFrame(dt)\n",
    "# tb = pa.Table.from_pydict(dt)"
   ]
  },
  {
   "cell_type": "code",
   "execution_count": null,
   "id": "39d6a587",
   "metadata": {},
   "outputs": [],
   "source": [
    "# print(df.head())\n",
    "print(df.dtypes)"
   ]
  },
  {
   "cell_type": "code",
   "execution_count": null,
   "id": "0b1c3a3d",
   "metadata": {},
   "outputs": [],
   "source": [
    "# check user dataset\n",
    "prof = pq.ParquetFile(\"{data_path}/US_EDUC/US_EDUC_user_part_1_0_249.parquet\".format(data_path=data_path))\n",
    "prof0 = prof.read_row_group(0)\n",
    "prof0.take([237623]).column(\"user_id\")\n",
    "\n",
    "\n",
    "\n"
   ]
  },
  {
   "cell_type": "code",
   "execution_count": null,
   "id": "cd5451dc",
   "metadata": {},
   "outputs": [],
   "source": [
    "# test time of one iteration before df assignment\n",
    "expr = pc.field(\"user_id\") == 600272782\n",
    "thisuser = prof0.filter(mask = expr, null_selection_behavior = \"drop\")\n",
    "\n",
    "test_prof = rd.user()\n",
    "test_prof.update_value(thisuser.take([0]).to_pandas())\n",
    "\n"
   ]
  },
  {
   "cell_type": "code",
   "execution_count": null,
   "id": "429144f9",
   "metadata": {},
   "outputs": [],
   "source": [
    "# test df assignment time\n",
    "id_index = ids.column(\"user_id\").index(3655629).as_py()\n",
    "print(id_index)\n",
    "print(df.loc[id_index, \"user_prof\"])\n"
   ]
  },
  {
   "cell_type": "code",
   "execution_count": null,
   "id": "a7ce10f0",
   "metadata": {},
   "outputs": [],
   "source": [
    "df.loc[id_index, \"user_prof\"].update_value(thisuser.take([0]).to_pandas())\n",
    "print(df.loc[id_index, \"user_prof\"])"
   ]
  },
  {
   "cell_type": "code",
   "execution_count": null,
   "id": "709477df",
   "metadata": {},
   "outputs": [],
   "source": [
    "# test time of just df assignment\n",
    "df.loc[id_index, \"user_prof\"] = test_prof"
   ]
  },
  {
   "cell_type": "code",
   "execution_count": null,
   "id": "31553a8a",
   "metadata": {},
   "outputs": [],
   "source": [
    "prof0.slice(length=5).column(\"user_id\")"
   ]
  },
  {
   "cell_type": "code",
   "execution_count": 4,
   "id": "0ce151b5",
   "metadata": {},
   "outputs": [
    {
     "data": {
      "text/plain": [
       "1048576"
      ]
     },
     "execution_count": 4,
     "metadata": {},
     "output_type": "execute_result"
    }
   ],
   "source": [
    "# check user_position dataset\n",
    "pos = pq.ParquetFile(\"{data_path}/US_EDUC/US_EDUC_user_position_part_1_00_0_249.parquet\".format(data_path=data_path))\n",
    "pos0 = pos.read_row_group(0)\n",
    "pos0.schema\n",
    "pos0.num_rows"
   ]
  },
  {
   "cell_type": "code",
   "execution_count": null,
   "id": "29d7f53e",
   "metadata": {},
   "outputs": [],
   "source": [
    "print(pos0.slice(length=1).column(0)[0])\n",
    "print(pos0.column_names[0])\n",
    "print(pos0.column(\"user_id\")[0])"
   ]
  },
  {
   "cell_type": "code",
   "execution_count": null,
   "id": "baa4d756",
   "metadata": {},
   "outputs": [],
   "source": [
    "# pos0.select([\"title_raw\", \"role_k1500\", \"job_category\", \"role_k50\", \"role_k150\"])\n",
    "for (col_name, col_type) in itertools.zip_longest(pos0.schema.names, pos0.schema.types),\n",
    "    print(col_name,\",\", col_type)"
   ]
  },
  {
   "cell_type": "code",
   "execution_count": null,
   "id": "e440a045",
   "metadata": {},
   "outputs": [],
   "source": [
    "# check user_skill dataset\n",
    "skill = pq.ParquetFile(\"{data_path}/US_EDUC/US_EDUC_user_skill_part_0000_0049.parquet\".format(data_path=data_path))\n",
    "skill0 = skill.read_row_group(0)\n",
    "skill0.num_columns\n",
    "skill0.column(\"user_id\")[0]"
   ]
  },
  {
   "cell_type": "code",
   "execution_count": null,
   "id": "45f84065",
   "metadata": {},
   "outputs": [],
   "source": [
    "skill0.slice(length=3)"
   ]
  },
  {
   "cell_type": "code",
   "execution_count": null,
   "id": "bfaa7a43",
   "metadata": {},
   "outputs": [],
   "source": [
    "df = pd.DataFrame({\"a\",[1,2,3], \"b\",[2,3,4], \"c\",pd.Series([pd.NA] * 3)})\n",
    "print(df)\n",
    "df.loc[2, \"c\"] = 10\n",
    "print(df)"
   ]
  },
  {
   "cell_type": "code",
   "execution_count": null,
   "id": "5e98c17f",
   "metadata": {},
   "outputs": [],
   "source": [
    "for i in range(3,-1,-1):\n",
    "    print(i)"
   ]
  },
  {
   "cell_type": "code",
   "execution_count": 1,
   "id": "d46520aa",
   "metadata": {},
   "outputs": [
    {
     "data": {
      "text/plain": [
       "'12345678'"
      ]
     },
     "execution_count": 1,
     "metadata": {},
     "output_type": "execute_result"
    }
   ],
   "source": [
    "# test string slicing\n",
    "test_str = \"12345678.09867\"\n",
    "test_str[0:-6]"
   ]
  }
 ],
 "metadata": {
  "kernelspec": {
   "display_name": ".venv",
   "language": "python",
   "name": "python3"
  },
  "language_info": {
   "codemirror_mode": {
    "name": "ipython",
    "version": 3
   },
   "file_extension": ".py",
   "mimetype": "text/x-python",
   "name": "python",
   "nbconvert_exporter": "python",
   "pygments_lexer": "ipython3",
   "version": "3.11.2"
  }
 },
 "nbformat": 4,
 "nbformat_minor": 5
}
